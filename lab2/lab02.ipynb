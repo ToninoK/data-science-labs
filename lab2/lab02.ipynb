{
 "cells": [
  {
   "cell_type": "markdown",
   "metadata": {
    "id": "fTHck9JJ2UG6"
   },
   "source": [
    "<center><h1> Uvod u podatkovnu znanost  </h1></center>\n",
    "<center><h2> Zimski semestar - 2022 </h2></center> \n",
    "<center><h3> Lab 2</h3></center> \n",
    "<center><h3> </h3></center> \n",
    "<center><h3> NumPy, Matplotlib</h3></center> \n",
    "\n"
   ]
  },
  {
   "cell_type": "markdown",
   "metadata": {
    "id": "dhNcWgxaBJuz"
   },
   "source": [
    "## NUMPY"
   ]
  },
  {
   "cell_type": "markdown",
   "metadata": {
    "id": "2B7qsN1X118_"
   },
   "source": [
    "### Instalacija\n",
    "Na Google colab numpy je već instaliran"
   ]
  },
  {
   "cell_type": "code",
   "execution_count": 1,
   "metadata": {
    "id": "uVx-mfQ66K3x"
   },
   "outputs": [
    {
     "name": "stdout",
     "output_type": "stream",
     "text": [
      "Defaulting to user installation because normal site-packages is not writeable\n",
      "Collecting numpy\n",
      "  Downloading numpy-1.19.5-cp36-cp36m-manylinux2010_x86_64.whl (14.8 MB)\n",
      "     |████████████████████████████████| 14.8 MB 3.2 MB/s            ███████▏                    | 5.2 MB 3.2 MB/s eta 0:00:03��████████████████▏        | 10.7 MB 3.2 MB/s eta 0:00:02�▌ | 14.1 MB 3.2 MB/s eta 0:00:01\n",
      "\u001b[?25hInstalling collected packages: numpy\n",
      "\u001b[33m  WARNING: The scripts f2py, f2py3 and f2py3.6 are installed in '/home/tkaste00.fesb.hr/.local/bin' which is not on PATH.\n",
      "  Consider adding this directory to PATH or, if you prefer to suppress this warning, use --no-warn-script-location.\u001b[0m\n",
      "Successfully installed numpy-1.19.5\n"
     ]
    }
   ],
   "source": [
    "!pip install numpy"
   ]
  },
  {
   "cell_type": "markdown",
   "metadata": {
    "id": "lKjFMJwP_4AT"
   },
   "source": [
    "### Import"
   ]
  },
  {
   "cell_type": "markdown",
   "metadata": {
    "id": "73BnScqKzAuz"
   },
   "source": [
    "The alias `np` je konvencija koje većinom upotrebljava"
   ]
  },
  {
   "cell_type": "code",
   "execution_count": 3,
   "metadata": {
    "id": "I_Riakur6LH4"
   },
   "outputs": [],
   "source": [
    "import numpy as np"
   ]
  },
  {
   "cell_type": "markdown",
   "metadata": {
    "id": "S5uSdKsMMyE0"
   },
   "source": [
    "### [1] Kreiranje array-a "
   ]
  },
  {
   "cell_type": "markdown",
   "metadata": {
    "id": "Ox3NLEvFozwd"
   },
   "source": [
    "Niz iz liste"
   ]
  },
  {
   "cell_type": "code",
   "execution_count": 2,
   "metadata": {
    "id": "V1o8Cf3B6LSI"
   },
   "outputs": [],
   "source": [
    "my_list = [i for i in range(36)]\n",
    "np_array = np.array(my_list)"
   ]
  },
  {
   "cell_type": "code",
   "execution_count": 3,
   "metadata": {
    "id": "Z2E7LVfW5mHr"
   },
   "outputs": [
    {
     "data": {
      "text/plain": [
       "numpy.ndarray"
      ]
     },
     "execution_count": 3,
     "metadata": {},
     "output_type": "execute_result"
    }
   ],
   "source": [
    "np_array.__class__"
   ]
  },
  {
   "cell_type": "code",
   "execution_count": 4,
   "metadata": {
    "id": "xNIHrKpb6Lbz"
   },
   "outputs": [
    {
     "data": {
      "text/plain": [
       "(36,)"
      ]
     },
     "execution_count": 4,
     "metadata": {},
     "output_type": "execute_result"
    }
   ],
   "source": [
    "np_array.shape"
   ]
  },
  {
   "cell_type": "code",
   "execution_count": 5,
   "metadata": {
    "id": "jpdq2jfL33er"
   },
   "outputs": [
    {
     "data": {
      "text/plain": [
       "dtype('int64')"
      ]
     },
     "execution_count": 5,
     "metadata": {},
     "output_type": "execute_result"
    }
   ],
   "source": [
    "np_array.dtype"
   ]
  },
  {
   "cell_type": "code",
   "execution_count": 6,
   "metadata": {
    "id": "OrejeCXHq88t"
   },
   "outputs": [
    {
     "data": {
      "text/plain": [
       "8"
      ]
     },
     "execution_count": 6,
     "metadata": {},
     "output_type": "execute_result"
    }
   ],
   "source": [
    "np_array.itemsize"
   ]
  },
  {
   "cell_type": "code",
   "execution_count": 7,
   "metadata": {
    "id": "SHylOjlc4CFy"
   },
   "outputs": [
    {
     "data": {
      "text/plain": [
       "array([ 0,  1,  2,  3,  4,  5,  6,  7,  8,  9, 10, 11, 12, 13, 14, 15, 16,\n",
       "       17, 18, 19, 20, 21, 22, 23, 24, 25, 26, 27, 28, 29, 30, 31, 32, 33,\n",
       "       34, 35])"
      ]
     },
     "execution_count": 7,
     "metadata": {},
     "output_type": "execute_result"
    }
   ],
   "source": [
    "np_array"
   ]
  },
  {
   "cell_type": "code",
   "execution_count": 8,
   "metadata": {
    "id": "BPMwdTyPrbGp"
   },
   "outputs": [
    {
     "data": {
      "text/plain": [
       "array([ 0.,  1.,  2.,  3.,  4.,  5.,  6.,  7.,  8.,  9., 10., 11., 12.,\n",
       "       13., 14., 15., 16., 17., 18., 19., 20., 21., 22., 23., 24., 25.,\n",
       "       26., 27., 28., 29., 30., 31., 32., 33., 34., 35.])"
      ]
     },
     "execution_count": 8,
     "metadata": {},
     "output_type": "execute_result"
    }
   ],
   "source": [
    "np_array.astype(np.float64)"
   ]
  },
  {
   "cell_type": "code",
   "execution_count": 9,
   "metadata": {
    "id": "9z8QQJTgrKpe"
   },
   "outputs": [
    {
     "data": {
      "text/plain": [
       "array([ True, False,  True,  True,  True, False,  True,  True, False])"
      ]
     },
     "execution_count": 9,
     "metadata": {},
     "output_type": "execute_result"
    }
   ],
   "source": [
    "np.array([12,0,3,4,5,0,6,7,0],dtype=np.bool_)"
   ]
  },
  {
   "cell_type": "markdown",
   "metadata": {
    "id": "U0LLY4XfM9EZ"
   },
   "source": [
    "Niz iz liste"
   ]
  },
  {
   "cell_type": "code",
   "execution_count": 10,
   "metadata": {
    "id": "pp1pMsTk30AT"
   },
   "outputs": [
    {
     "data": {
      "text/plain": [
       "array([1, 2, 3])"
      ]
     },
     "execution_count": 10,
     "metadata": {},
     "output_type": "execute_result"
    }
   ],
   "source": [
    "np.array([1, 2, 3])"
   ]
  },
  {
   "cell_type": "markdown",
   "metadata": {
    "id": "3Oq4-s_QNJxO"
   },
   "source": [
    "Niz nula"
   ]
  },
  {
   "cell_type": "code",
   "execution_count": 11,
   "metadata": {
    "id": "WP_vRs3W30AW"
   },
   "outputs": [
    {
     "data": {
      "text/plain": [
       "array([0., 0., 0.])"
      ]
     },
     "execution_count": 11,
     "metadata": {},
     "output_type": "execute_result"
    }
   ],
   "source": [
    "np.zeros(3)"
   ]
  },
  {
   "cell_type": "markdown",
   "metadata": {
    "id": "P2xs2zAXNQjv"
   },
   "source": [
    "Niz jedinica"
   ]
  },
  {
   "cell_type": "code",
   "execution_count": 12,
   "metadata": {
    "id": "EbbQvejn30AZ"
   },
   "outputs": [
    {
     "data": {
      "text/plain": [
       "array([1., 1., 1.])"
      ]
     },
     "execution_count": 12,
     "metadata": {},
     "output_type": "execute_result"
    }
   ],
   "source": [
    "np.ones(3)"
   ]
  },
  {
   "cell_type": "markdown",
   "metadata": {
    "id": "s19MZEp-NWPn"
   },
   "source": [
    "Niz od 3 nasumična int broja između 1 i 10\n",
    "\n",
    "\n",
    "```\n",
    "randint(start,end,number_of_values) - number_of_values u interavlu [start,end)\n",
    "```\n",
    "\n"
   ]
  },
  {
   "cell_type": "code",
   "execution_count": 13,
   "metadata": {
    "id": "Eu6mv39-30Ab"
   },
   "outputs": [
    {
     "data": {
      "text/plain": [
       "array([1, 9, 3])"
      ]
     },
     "execution_count": 13,
     "metadata": {},
     "output_type": "execute_result"
    }
   ],
   "source": [
    "np.random.randint(1,10, 3)"
   ]
  },
  {
   "cell_type": "markdown",
   "metadata": {
    "id": "MQKkksrLrspz"
   },
   "source": [
    "Niz iz 'range-a' integera"
   ]
  },
  {
   "cell_type": "code",
   "execution_count": 14,
   "metadata": {
    "id": "iLaXy-9SrH1m"
   },
   "outputs": [
    {
     "data": {
      "text/plain": [
       "array([ 1,  6, 11, 16, 21, 26, 31, 36, 41, 46, 51, 56, 61, 66, 71, 76, 81,\n",
       "       86, 91, 96])"
      ]
     },
     "execution_count": 14,
     "metadata": {},
     "output_type": "execute_result"
    }
   ],
   "source": [
    "np.arange(1, 100, 5)"
   ]
  },
  {
   "cell_type": "markdown",
   "metadata": {
    "id": "EEP0cFOcNrP2"
   },
   "source": [
    "Niz linearno udaljenih brojeva"
   ]
  },
  {
   "cell_type": "code",
   "execution_count": 15,
   "metadata": {
    "id": "ulOnYoU230Ad"
   },
   "outputs": [
    {
     "data": {
      "text/plain": [
       "array([ 0. ,  2.5,  5. ,  7.5, 10. ])"
      ]
     },
     "execution_count": 15,
     "metadata": {},
     "output_type": "execute_result"
    }
   ],
   "source": [
    "np.linspace(0, 10, 5 )"
   ]
  },
  {
   "cell_type": "markdown",
   "metadata": {
    "id": "ltpGqa5JYIw3"
   },
   "source": [
    "Jednostavan 2D niz"
   ]
  },
  {
   "cell_type": "code",
   "execution_count": 16,
   "metadata": {
    "id": "uvtGjFTR30Af"
   },
   "outputs": [
    {
     "data": {
      "text/plain": [
       "array([[1, 2, 3],\n",
       "       [4, 5, 6],\n",
       "       [7, 8, 9]])"
      ]
     },
     "execution_count": 16,
     "metadata": {},
     "output_type": "execute_result"
    }
   ],
   "source": [
    "np.array([[1,2,3],\n",
    "         [4,5,6],\n",
    "         [7,8,9]])"
   ]
  },
  {
   "cell_type": "markdown",
   "metadata": {
    "id": "qihCXFxcqw6C"
   },
   "source": [
    "Alternativni način za specificiranje višedimenzionalnih nizova"
   ]
  },
  {
   "cell_type": "code",
   "execution_count": 17,
   "metadata": {
    "id": "pOBdF_tTqviJ"
   },
   "outputs": [
    {
     "data": {
      "text/plain": [
       "matrix([[1, 2],\n",
       "        [3, 4]])"
      ]
     },
     "execution_count": 17,
     "metadata": {},
     "output_type": "execute_result"
    }
   ],
   "source": [
    "np.matrix('1 2; 3 4')"
   ]
  },
  {
   "cell_type": "markdown",
   "metadata": {
    "id": "LB3RLmFdX7vD"
   },
   "source": [
    "Niz sa vrijednostima između 0 i 1"
   ]
  },
  {
   "cell_type": "code",
   "execution_count": 18,
   "metadata": {
    "id": "HaTPFxfY30Ah"
   },
   "outputs": [
    {
     "data": {
      "text/plain": [
       "array([[0.70575779, 0.23120897, 0.92622831, 0.69174154],\n",
       "       [0.50572038, 0.7870366 , 0.39435059, 0.5351846 ],\n",
       "       [0.40194633, 0.68960519, 0.36100443, 0.52570655]])"
      ]
     },
     "execution_count": 18,
     "metadata": {},
     "output_type": "execute_result"
    }
   ],
   "source": [
    "np.random.random((3,4))"
   ]
  },
  {
   "cell_type": "markdown",
   "metadata": {
    "id": "bQ80v76SYCou"
   },
   "source": [
    "Niz sa normalno distribuiranim elementima"
   ]
  },
  {
   "cell_type": "code",
   "execution_count": 19,
   "metadata": {
    "id": "dKo8YPQhF3GO"
   },
   "outputs": [
    {
     "data": {
      "text/plain": [
       "array([[ 0.19822214, -0.82714516, -0.12529763, -0.72835364],\n",
       "       [-1.55947437, -1.55126577, -0.72402164, -1.84701559],\n",
       "       [ 1.14400529, -0.02068396,  1.56188842, -0.70750834]])"
      ]
     },
     "execution_count": 19,
     "metadata": {},
     "output_type": "execute_result"
    }
   ],
   "source": [
    "np.random.randn(3,4)"
   ]
  },
  {
   "cell_type": "markdown",
   "metadata": {
    "id": "0Vdrl2yksN_x"
   },
   "source": [
    "Primjer nizova: 1D niz a te 2D niz b\n"
   ]
  },
  {
   "cell_type": "code",
   "execution_count": 20,
   "metadata": {
    "id": "92oz7rFe30Ak",
    "scrolled": true
   },
   "outputs": [
    {
     "name": "stdout",
     "output_type": "stream",
     "text": [
      "a =  [1 2 3 4]\n",
      "b =  [[0 9 8]\n",
      " [5 0 6]\n",
      " [2 2 5]]\n"
     ]
    }
   ],
   "source": [
    "a = np.array([1,2,3, 4])\n",
    "b = np.random.randint(0,10, (3,3))\n",
    "\n",
    "print(\"a = \",a)\n",
    "print(\"b = \",b)"
   ]
  },
  {
   "cell_type": "markdown",
   "metadata": {
    "id": "JklrMYYcsfBB"
   },
   "source": [
    "Oblik i dimenzija nizova"
   ]
  },
  {
   "cell_type": "code",
   "execution_count": 21,
   "metadata": {
    "id": "obBJnmLl30Ao"
   },
   "outputs": [
    {
     "name": "stdout",
     "output_type": "stream",
     "text": [
      "Shape of a: (4,)\n",
      "Shape of b: (3, 3)\n",
      "Dimension of a: 1\n",
      "Dimension of b: 2\n"
     ]
    }
   ],
   "source": [
    "print(\"Shape of a:\", np.shape(a))\n",
    "print(\"Shape of b:\", np.shape(b))\n",
    "\n",
    "print('Dimension of a:', np.ndim(a))\n",
    "print('Dimension of b:', np.ndim(b))"
   ]
  },
  {
   "cell_type": "markdown",
   "metadata": {
    "id": "k9dE7QVQsjQ3"
   },
   "source": [
    "Broj elemenata"
   ]
  },
  {
   "cell_type": "code",
   "execution_count": 22,
   "metadata": {
    "id": "M5a5sEo530Ap"
   },
   "outputs": [
    {
     "name": "stdout",
     "output_type": "stream",
     "text": [
      "Number of elements in a: 4\n",
      "Number of elements in b: 9\n"
     ]
    }
   ],
   "source": [
    "print('Number of elements in a:', np.size(a))\n",
    "print('Number of elements in b:', np.size(b))"
   ]
  },
  {
   "cell_type": "markdown",
   "metadata": {
    "id": "P9ktlJpS30As"
   },
   "source": [
    "### [2] Indeksiranje"
   ]
  },
  {
   "cell_type": "markdown",
   "metadata": {
    "id": "_tX1uDqgs7Yg"
   },
   "source": [
    "Prvi element od a"
   ]
  },
  {
   "cell_type": "code",
   "execution_count": 23,
   "metadata": {
    "id": "0KiQc0GL30A0"
   },
   "outputs": [
    {
     "name": "stdout",
     "output_type": "stream",
     "text": [
      "1\n",
      "1\n"
     ]
    }
   ],
   "source": [
    "print(a[0])\n",
    "print(a[-4])"
   ]
  },
  {
   "cell_type": "markdown",
   "metadata": {
    "id": "aArcxZxus8_W"
   },
   "source": [
    "Zadnji element od a"
   ]
  },
  {
   "cell_type": "code",
   "execution_count": 24,
   "metadata": {
    "id": "d-2JMaSG30A4"
   },
   "outputs": [
    {
     "name": "stdout",
     "output_type": "stream",
     "text": [
      "4\n",
      "4\n"
     ]
    }
   ],
   "source": [
    "print(a[-1])\n",
    "print(a[3])"
   ]
  },
  {
   "cell_type": "markdown",
   "metadata": {
    "id": "yqId4f3stAO8"
   },
   "source": [
    "Prvi redak od b"
   ]
  },
  {
   "cell_type": "code",
   "execution_count": 25,
   "metadata": {
    "id": "5yLi8hNw30A6"
   },
   "outputs": [
    {
     "name": "stdout",
     "output_type": "stream",
     "text": [
      "[0 9 8]\n",
      "[0 9 8]\n"
     ]
    }
   ],
   "source": [
    "print(b[0]) \n",
    "print(b[0,:])"
   ]
  },
  {
   "cell_type": "markdown",
   "metadata": {
    "id": "D47ZEqpGtET2"
   },
   "source": [
    "Drugi stupac od b"
   ]
  },
  {
   "cell_type": "code",
   "execution_count": 26,
   "metadata": {
    "id": "gJcTX8pC30A8"
   },
   "outputs": [
    {
     "data": {
      "text/plain": [
       "array([9, 0, 2])"
      ]
     },
     "execution_count": 26,
     "metadata": {},
     "output_type": "execute_result"
    }
   ],
   "source": [
    "b[:,1]"
   ]
  },
  {
   "cell_type": "markdown",
   "metadata": {
    "id": "qR-6Vo8ktI-Q"
   },
   "source": [
    "Dva nova niza"
   ]
  },
  {
   "cell_type": "code",
   "execution_count": 27,
   "metadata": {
    "id": "XtMiu1wj30A-"
   },
   "outputs": [
    {
     "name": "stdout",
     "output_type": "stream",
     "text": [
      "['a' 'b' 'c']\n",
      "[['d' 'e' 'f']\n",
      " ['g' 'h' 'k']]\n"
     ]
    }
   ],
   "source": [
    "x = np.array(['a', 'b', 'c'])\n",
    "y = np.array([['d','e','f'], \n",
    "              ['g', 'h', 'k']])\n",
    "\n",
    "print(x)\n",
    "print(y)"
   ]
  },
  {
   "cell_type": "markdown",
   "metadata": {
    "id": "gBCL_UPytRmp"
   },
   "source": [
    "Indeksiranje 'c' iz x"
   ]
  },
  {
   "cell_type": "code",
   "execution_count": 28,
   "metadata": {
    "id": "9yRkolt330BI"
   },
   "outputs": [
    {
     "data": {
      "text/plain": [
       "array(['c'], dtype='<U1')"
      ]
     },
     "execution_count": 28,
     "metadata": {},
     "output_type": "execute_result"
    }
   ],
   "source": [
    "ind = [2]\n",
    "x[ind]"
   ]
  },
  {
   "cell_type": "markdown",
   "metadata": {
    "id": "texW-VHk30BN"
   },
   "source": [
    "### [3] Slicing\n"
   ]
  },
  {
   "cell_type": "markdown",
   "metadata": {
    "id": "-3UY_gVVtmNU"
   },
   "source": [
    "Primjer integera između 1 i 10"
   ]
  },
  {
   "cell_type": "code",
   "execution_count": 29,
   "metadata": {
    "id": "YohttjXd30BO"
   },
   "outputs": [
    {
     "data": {
      "text/plain": [
       "array([ 1,  2,  3,  4,  5,  6,  7,  8,  9, 10])"
      ]
     },
     "execution_count": 29,
     "metadata": {},
     "output_type": "execute_result"
    }
   ],
   "source": [
    "X = np.arange(1, 11, dtype=int)\n",
    "X"
   ]
  },
  {
   "cell_type": "markdown",
   "metadata": {
    "id": "MxGdY-zFto5A"
   },
   "source": [
    "Prva dva elementa od X"
   ]
  },
  {
   "cell_type": "code",
   "execution_count": 30,
   "metadata": {
    "id": "AVU-sx-w30BP"
   },
   "outputs": [
    {
     "data": {
      "text/plain": [
       "array([1, 2])"
      ]
     },
     "execution_count": 30,
     "metadata": {},
     "output_type": "execute_result"
    }
   ],
   "source": [
    "X[:2]"
   ]
  },
  {
   "cell_type": "markdown",
   "metadata": {
    "id": "mow-9Ee3tsge"
   },
   "source": [
    "Elementi iz sredine = 3, 4, 5"
   ]
  },
  {
   "cell_type": "code",
   "execution_count": 31,
   "metadata": {
    "id": "XidRDF0E30BS"
   },
   "outputs": [
    {
     "data": {
      "text/plain": [
       "array([3, 4, 5])"
      ]
     },
     "execution_count": 31,
     "metadata": {},
     "output_type": "execute_result"
    }
   ],
   "source": [
    "X[2:5]"
   ]
  },
  {
   "cell_type": "markdown",
   "metadata": {
    "id": "xDzI4-yHtztv"
   },
   "source": [
    "Samo neparni redni brojevi"
   ]
  },
  {
   "cell_type": "code",
   "execution_count": 32,
   "metadata": {
    "id": "MQOMFZ-E30BU"
   },
   "outputs": [
    {
     "data": {
      "text/plain": [
       "array([1, 3, 5, 7, 9])"
      ]
     },
     "execution_count": 32,
     "metadata": {},
     "output_type": "execute_result"
    }
   ],
   "source": [
    "X[::2]"
   ]
  },
  {
   "cell_type": "markdown",
   "metadata": {
    "id": "HAOvTXDmt9Zi"
   },
   "source": [
    "Parni redni brojevi"
   ]
  },
  {
   "cell_type": "code",
   "execution_count": 33,
   "metadata": {
    "id": "BClbH8_N30BV"
   },
   "outputs": [
    {
     "data": {
      "text/plain": [
       "array([ 2,  4,  6,  8, 10])"
      ]
     },
     "execution_count": 33,
     "metadata": {},
     "output_type": "execute_result"
    }
   ],
   "source": [
    "X[1::2]"
   ]
  },
  {
   "cell_type": "markdown",
   "metadata": {
    "id": "dzaD9fQzuBNK"
   },
   "source": [
    "Primjer 2D niza"
   ]
  },
  {
   "cell_type": "code",
   "execution_count": 34,
   "metadata": {
    "id": "mbHDuPI030BX"
   },
   "outputs": [
    {
     "data": {
      "text/plain": [
       "array([[1, 2, 3],\n",
       "       [4, 5, 6],\n",
       "       [7, 8, 9]])"
      ]
     },
     "execution_count": 34,
     "metadata": {},
     "output_type": "execute_result"
    }
   ],
   "source": [
    "Y= np.arange(1,10).reshape(3,3)\n",
    "Y"
   ]
  },
  {
   "cell_type": "markdown",
   "metadata": {
    "id": "CcbH979wuEVF"
   },
   "source": [
    "Prvi i drugi red\n"
   ]
  },
  {
   "cell_type": "code",
   "execution_count": 35,
   "metadata": {
    "id": "30LG8L4530BY"
   },
   "outputs": [
    {
     "data": {
      "text/plain": [
       "array([[1, 2, 3],\n",
       "       [4, 5, 6]])"
      ]
     },
     "execution_count": 35,
     "metadata": {},
     "output_type": "execute_result"
    }
   ],
   "source": [
    "Y[:2,:]"
   ]
  },
  {
   "cell_type": "markdown",
   "metadata": {
    "id": "dvzDXeptuI0b"
   },
   "source": [
    "Drugi i treći stupac"
   ]
  },
  {
   "cell_type": "code",
   "execution_count": 36,
   "metadata": {
    "id": "5-spSpsr30Ba"
   },
   "outputs": [
    {
     "data": {
      "text/plain": [
       "array([[2, 3],\n",
       "       [5, 6],\n",
       "       [8, 9]])"
      ]
     },
     "execution_count": 36,
     "metadata": {},
     "output_type": "execute_result"
    }
   ],
   "source": [
    "Y[:, 1:]"
   ]
  },
  {
   "cell_type": "markdown",
   "metadata": {
    "id": "jbg72kXWuWGd"
   },
   "source": [
    "Parcijalni redak : 5, 6\n"
   ]
  },
  {
   "cell_type": "code",
   "execution_count": 37,
   "metadata": {
    "id": "A-Bo9Lam30Bb"
   },
   "outputs": [
    {
     "data": {
      "text/plain": [
       "array([5, 6])"
      ]
     },
     "execution_count": 37,
     "metadata": {},
     "output_type": "execute_result"
    }
   ],
   "source": [
    "Y[1,1:]"
   ]
  },
  {
   "cell_type": "markdown",
   "metadata": {
    "id": "i8VuqiFj30Bd"
   },
   "source": [
    "### [4] Univerzalne funkcije (ufuncs)\n",
    "**Brze operacije na nizovima**"
   ]
  },
  {
   "cell_type": "code",
   "execution_count": null,
   "metadata": {
    "id": "n5Zpl20m30Be"
   },
   "outputs": [],
   "source": [
    "X"
   ]
  },
  {
   "cell_type": "markdown",
   "metadata": {
    "id": "YZ_OGaequnk7"
   },
   "source": [
    "Maximum element"
   ]
  },
  {
   "cell_type": "code",
   "execution_count": null,
   "metadata": {
    "id": "c7qvoqAM30Bi"
   },
   "outputs": [],
   "source": [
    "np.max(X)"
   ]
  },
  {
   "cell_type": "markdown",
   "metadata": {
    "id": "Esmm1tAwupnG"
   },
   "source": [
    "Mean svih elemenata"
   ]
  },
  {
   "cell_type": "code",
   "execution_count": null,
   "metadata": {
    "id": "GxkPQwBh30Bk"
   },
   "outputs": [],
   "source": [
    "np.mean(X)"
   ]
  },
  {
   "cell_type": "markdown",
   "metadata": {
    "id": "EFDNjCdUuuEd"
   },
   "source": [
    "Svi elementi na potenciju broja 4\n"
   ]
  },
  {
   "cell_type": "code",
   "execution_count": null,
   "metadata": {
    "id": "1_vAnx-t30Bl"
   },
   "outputs": [],
   "source": [
    "np.power(X, 4)"
   ]
  },
  {
   "cell_type": "markdown",
   "metadata": {
    "id": "78xX7sYwuyQA"
   },
   "source": [
    "Trigonometrijske funkcije"
   ]
  },
  {
   "cell_type": "code",
   "execution_count": null,
   "metadata": {
    "id": "3hI7QfFi30Bn"
   },
   "outputs": [],
   "source": [
    "print(np.sin(X))\n",
    "print(np.tan(X))"
   ]
  },
  {
   "cell_type": "markdown",
   "metadata": {
    "id": "nUD0Qrr9u16C"
   },
   "source": [
    "Računanje $(sin \\; x_{ij})^2 + (cos \\; x_{ij})^2$ za svaki element"
   ]
  },
  {
   "cell_type": "code",
   "execution_count": null,
   "metadata": {
    "id": "xax0W2nm30Bq"
   },
   "outputs": [],
   "source": [
    "# x2 + y2 = 1\n",
    "np.square(np.sin(X)) + np.square(np.cos(X))"
   ]
  },
  {
   "cell_type": "markdown",
   "metadata": {
    "id": "g-HHXNfHvG2U"
   },
   "source": [
    "2D niz"
   ]
  },
  {
   "cell_type": "code",
   "execution_count": 38,
   "metadata": {
    "id": "vXPH4FQm30Bs"
   },
   "outputs": [
    {
     "data": {
      "text/plain": [
       "array([[1, 2, 3],\n",
       "       [4, 5, 6],\n",
       "       [7, 8, 9]])"
      ]
     },
     "execution_count": 38,
     "metadata": {},
     "output_type": "execute_result"
    }
   ],
   "source": [
    "Y"
   ]
  },
  {
   "cell_type": "markdown",
   "metadata": {
    "id": "NMJAcurrvJjw"
   },
   "source": [
    "Množenje svakog elementa"
   ]
  },
  {
   "cell_type": "code",
   "execution_count": 39,
   "metadata": {
    "id": "MHn_A5aA30Bv"
   },
   "outputs": [
    {
     "data": {
      "text/plain": [
       "array([[ 2,  4,  6],\n",
       "       [ 8, 10, 12],\n",
       "       [14, 16, 18]])"
      ]
     },
     "execution_count": 39,
     "metadata": {},
     "output_type": "execute_result"
    }
   ],
   "source": [
    "np.multiply(Y, 2)"
   ]
  },
  {
   "cell_type": "markdown",
   "metadata": {
    "id": "5tiEaGDzvOFX"
   },
   "source": [
    "Split Y u 3 podniza"
   ]
  },
  {
   "cell_type": "code",
   "execution_count": 40,
   "metadata": {
    "id": "dvlh8zz530Bx"
   },
   "outputs": [
    {
     "data": {
      "text/plain": [
       "[array([[1, 2, 3]]), array([[4, 5, 6]]), array([[7, 8, 9]])]"
      ]
     },
     "execution_count": 40,
     "metadata": {},
     "output_type": "execute_result"
    }
   ],
   "source": [
    "np.split(Y, 3)"
   ]
  },
  {
   "cell_type": "markdown",
   "metadata": {
    "id": "h8NcgJ8v30Bz"
   },
   "source": [
    "### [5] Broadcasting"
   ]
  },
  {
   "cell_type": "markdown",
   "metadata": {
    "id": "e9K7DgOP30Bz"
   },
   "source": [
    " Broadcasting oredstavlja mogućnost korištenja ufuncs i mnogih drugih operacija na nizove različitih nizova"
   ]
  },
  {
   "cell_type": "code",
   "execution_count": 41,
   "metadata": {
    "id": "F1TvYZLT30Bz"
   },
   "outputs": [
    {
     "data": {
      "text/plain": [
       "array([ 1,  2,  3,  4,  5,  6,  7,  8,  9, 10])"
      ]
     },
     "execution_count": 41,
     "metadata": {},
     "output_type": "execute_result"
    }
   ],
   "source": [
    "X"
   ]
  },
  {
   "cell_type": "markdown",
   "metadata": {
    "id": "CBmSFhEMvYBM"
   },
   "source": [
    "Dodavanje 5 na svaki element"
   ]
  },
  {
   "cell_type": "code",
   "execution_count": 42,
   "metadata": {
    "id": "OybWQPju30B1"
   },
   "outputs": [
    {
     "data": {
      "text/plain": [
       "array([ 6,  7,  8,  9, 10, 11, 12, 13, 14, 15])"
      ]
     },
     "execution_count": 42,
     "metadata": {},
     "output_type": "execute_result"
    }
   ],
   "source": [
    "X + 5"
   ]
  },
  {
   "cell_type": "code",
   "execution_count": 43,
   "metadata": {
    "id": "lCqg_Wm330B3"
   },
   "outputs": [
    {
     "data": {
      "text/plain": [
       "array([ 6,  7,  8,  9, 10, 11, 12, 13, 14, 15])"
      ]
     },
     "execution_count": 43,
     "metadata": {},
     "output_type": "execute_result"
    }
   ],
   "source": [
    "np.add(X, 5)"
   ]
  },
  {
   "cell_type": "markdown",
   "metadata": {
    "id": "GKeed4JKvc1y"
   },
   "source": [
    "Niz Z sa newaxis"
   ]
  },
  {
   "cell_type": "code",
   "execution_count": 50,
   "metadata": {
    "id": "pHCIA7ye30B6"
   },
   "outputs": [
    {
     "data": {
      "text/plain": [
       "array([[0],\n",
       "       [1],\n",
       "       [2]])"
      ]
     },
     "execution_count": 50,
     "metadata": {},
     "output_type": "execute_result"
    }
   ],
   "source": [
    "Z = np.arange(3)[:, np.newaxis]\n",
    "Z"
   ]
  },
  {
   "cell_type": "code",
   "execution_count": 45,
   "metadata": {
    "id": "-AbjREHUvkLD"
   },
   "outputs": [
    {
     "data": {
      "text/plain": [
       "(3,)"
      ]
     },
     "execution_count": 48,
     "metadata": {},
     "output_type": "execute_result"
    }
   ],
   "source": [
    "Z.shape"
   ]
  },
  {
   "cell_type": "code",
   "execution_count": 46,
   "metadata": {
    "id": "MSaoZMjIvug7"
   },
   "outputs": [
    {
     "data": {
      "text/plain": [
       "(3, 3)"
      ]
     },
     "execution_count": 46,
     "metadata": {},
     "output_type": "execute_result"
    }
   ],
   "source": [
    "Y.shape"
   ]
  },
  {
   "cell_type": "code",
   "execution_count": 51,
   "metadata": {
    "id": "lHRMcBgc30B8"
   },
   "outputs": [
    {
     "data": {
      "text/plain": [
       "array([[ 0,  0,  0],\n",
       "       [ 4,  5,  6],\n",
       "       [14, 16, 18]])"
      ]
     },
     "execution_count": 51,
     "metadata": {},
     "output_type": "execute_result"
    }
   ],
   "source": [
    "np.multiply(Y, Z)"
   ]
  },
  {
   "cell_type": "code",
   "execution_count": 52,
   "metadata": {
    "id": "FxuA0fenF3Rc"
   },
   "outputs": [
    {
     "data": {
      "text/plain": [
       "array([[ 8],\n",
       "       [17],\n",
       "       [26]])"
      ]
     },
     "execution_count": 52,
     "metadata": {},
     "output_type": "execute_result"
    }
   ],
   "source": [
    "np.matmul(Y, Z)"
   ]
  },
  {
   "cell_type": "markdown",
   "metadata": {
    "id": "cdp7oTYT30B-"
   },
   "source": [
    "### [6] Druge operacije"
   ]
  },
  {
   "cell_type": "code",
   "execution_count": null,
   "metadata": {
    "id": "n6__1gGJ30B_"
   },
   "outputs": [],
   "source": [
    "x = np.random.randint(1,5, 10)\n",
    "x"
   ]
  },
  {
   "cell_type": "code",
   "execution_count": null,
   "metadata": {
    "id": "2AhVk4Ru30CB"
   },
   "outputs": [],
   "source": [
    "y = np.random.randint(1,5, (3,3))\n",
    "y"
   ]
  },
  {
   "cell_type": "markdown",
   "metadata": {
    "id": "VvtDh1yLwKzg"
   },
   "source": [
    "Sortiranje"
   ]
  },
  {
   "cell_type": "code",
   "execution_count": null,
   "metadata": {
    "id": "mom7_ymM30CD"
   },
   "outputs": [],
   "source": [
    "np.sort(x)"
   ]
  },
  {
   "cell_type": "markdown",
   "metadata": {
    "id": "eGrKxoUFwMnP"
   },
   "source": [
    "Sortiranje po redcima"
   ]
  },
  {
   "cell_type": "code",
   "execution_count": 53,
   "metadata": {
    "id": "PTtb3TYN30CF"
   },
   "outputs": [
    {
     "data": {
      "text/plain": [
       "array([['d', 'e', 'f'],\n",
       "       ['g', 'h', 'k']], dtype='<U1')"
      ]
     },
     "execution_count": 53,
     "metadata": {},
     "output_type": "execute_result"
    }
   ],
   "source": [
    "np.sort(y, axis=0)"
   ]
  },
  {
   "cell_type": "markdown",
   "metadata": {
    "id": "PvNTU6tOwVNR"
   },
   "source": [
    "Sortiranje po stupcima"
   ]
  },
  {
   "cell_type": "code",
   "execution_count": 54,
   "metadata": {
    "id": "c0xS9Sge30CH"
   },
   "outputs": [
    {
     "data": {
      "text/plain": [
       "array([['d', 'e', 'f'],\n",
       "       ['g', 'h', 'k']], dtype='<U1')"
      ]
     },
     "execution_count": 54,
     "metadata": {},
     "output_type": "execute_result"
    }
   ],
   "source": [
    "np.sort(y, axis=1)"
   ]
  },
  {
   "cell_type": "markdown",
   "metadata": {
    "id": "tLjHjmxIwYsD"
   },
   "source": [
    "Conditions primijenjen na nizove"
   ]
  },
  {
   "cell_type": "code",
   "execution_count": 55,
   "metadata": {
    "id": "NCi1o1ey30CJ"
   },
   "outputs": [
    {
     "ename": "TypeError",
     "evalue": "'>' not supported between instances of 'numpy.ndarray' and 'int'",
     "output_type": "error",
     "traceback": [
      "\u001b[0;31m---------------------------------------------------------------------------\u001b[0m",
      "\u001b[0;31mTypeError\u001b[0m                                 Traceback (most recent call last)",
      "\u001b[0;32m<ipython-input-55-c1db025163fb>\u001b[0m in \u001b[0;36m<module>\u001b[0;34m\u001b[0m\n\u001b[1;32m      1\u001b[0m \u001b[0;31m# == , !=, < , >, >=, <= operations on arrays\u001b[0m\u001b[0;34m\u001b[0m\u001b[0;34m\u001b[0m\u001b[0;34m\u001b[0m\u001b[0m\n\u001b[0;32m----> 2\u001b[0;31m \u001b[0mx\u001b[0m \u001b[0;34m>\u001b[0m \u001b[0;36m3\u001b[0m\u001b[0;34m\u001b[0m\u001b[0;34m\u001b[0m\u001b[0m\n\u001b[0m",
      "\u001b[0;31mTypeError\u001b[0m: '>' not supported between instances of 'numpy.ndarray' and 'int'"
     ]
    }
   ],
   "source": [
    "# == , !=, < , >, >=, <= operations on arrays\n",
    "x > 3"
   ]
  },
  {
   "cell_type": "markdown",
   "metadata": {
    "id": "WyvfBEFHwe_b"
   },
   "source": [
    "Maskiranje niza"
   ]
  },
  {
   "cell_type": "code",
   "execution_count": 56,
   "metadata": {
    "id": "hEiZgr5-30CK"
   },
   "outputs": [
    {
     "ename": "TypeError",
     "evalue": "'>' not supported between instances of 'numpy.ndarray' and 'int'",
     "output_type": "error",
     "traceback": [
      "\u001b[0;31m---------------------------------------------------------------------------\u001b[0m",
      "\u001b[0;31mTypeError\u001b[0m                                 Traceback (most recent call last)",
      "\u001b[0;32m<ipython-input-56-56da34f895c6>\u001b[0m in \u001b[0;36m<module>\u001b[0;34m\u001b[0m\n\u001b[0;32m----> 1\u001b[0;31m \u001b[0mx\u001b[0m\u001b[0;34m[\u001b[0m\u001b[0mx\u001b[0m\u001b[0;34m>\u001b[0m\u001b[0;36m3\u001b[0m\u001b[0;34m]\u001b[0m\u001b[0;34m\u001b[0m\u001b[0;34m\u001b[0m\u001b[0m\n\u001b[0m",
      "\u001b[0;31mTypeError\u001b[0m: '>' not supported between instances of 'numpy.ndarray' and 'int'"
     ]
    }
   ],
   "source": [
    "x[x>3]"
   ]
  },
  {
   "cell_type": "code",
   "execution_count": 57,
   "metadata": {
    "id": "Rw-zn_Z230CM"
   },
   "outputs": [
    {
     "ename": "TypeError",
     "evalue": "'<=' not supported between instances of 'numpy.ndarray' and 'int'",
     "output_type": "error",
     "traceback": [
      "\u001b[0;31m---------------------------------------------------------------------------\u001b[0m",
      "\u001b[0;31mTypeError\u001b[0m                                 Traceback (most recent call last)",
      "\u001b[0;32m<ipython-input-57-02fbbe95b86d>\u001b[0m in \u001b[0;36m<module>\u001b[0;34m\u001b[0m\n\u001b[0;32m----> 1\u001b[0;31m \u001b[0mx\u001b[0m\u001b[0;34m[\u001b[0m\u001b[0;34m(\u001b[0m\u001b[0mx\u001b[0m \u001b[0;34m<=\u001b[0m \u001b[0;36m3\u001b[0m\u001b[0;34m)\u001b[0m \u001b[0;34m&\u001b[0m \u001b[0;34m(\u001b[0m\u001b[0mx\u001b[0m\u001b[0;34m>\u001b[0m\u001b[0;36m1\u001b[0m\u001b[0;34m)\u001b[0m\u001b[0;34m]\u001b[0m\u001b[0;34m\u001b[0m\u001b[0;34m\u001b[0m\u001b[0m\n\u001b[0m",
      "\u001b[0;31mTypeError\u001b[0m: '<=' not supported between instances of 'numpy.ndarray' and 'int'"
     ]
    }
   ],
   "source": [
    "x[(x <= 3) & (x>1)]"
   ]
  },
  {
   "cell_type": "markdown",
   "metadata": {
    "id": "E9LHp9UECBLD"
   },
   "source": [
    "## MATPLOTLIB"
   ]
  },
  {
   "cell_type": "markdown",
   "metadata": {
    "id": "rkaj4RksCIT8"
   },
   "source": [
    "### Instalacija"
   ]
  },
  {
   "cell_type": "code",
   "execution_count": 58,
   "metadata": {
    "id": "qAuH1YS3CB1v"
   },
   "outputs": [
    {
     "name": "stdout",
     "output_type": "stream",
     "text": [
      "Defaulting to user installation because normal site-packages is not writeable\n",
      "Collecting matplotlib\n",
      "  Downloading matplotlib-3.3.4-cp36-cp36m-manylinux1_x86_64.whl (11.5 MB)\n",
      "     |████████████████████████████████| 11.5 MB 2.6 MB/s            ███▉                        | 2.8 MB 2.6 MB/s eta 0:00:04��█████████████████████ | 11.2 MB 2.6 MB/s eta 0:00:01\n",
      "\u001b[?25hRequirement already satisfied: python-dateutil>=2.1 in /usr/lib/python3.6/site-packages (from matplotlib) (2.6.1)\n",
      "Collecting kiwisolver>=1.0.1\n",
      "  Downloading kiwisolver-1.3.1-cp36-cp36m-manylinux1_x86_64.whl (1.1 MB)\n",
      "     |████████████████████████████████| 1.1 MB 46.2 MB/s            00:01\n",
      "\u001b[?25hCollecting cycler>=0.10\n",
      "  Downloading cycler-0.11.0-py3-none-any.whl (6.4 kB)\n",
      "Requirement already satisfied: numpy>=1.15 in /home/tkaste00.fesb.hr/.local/lib/python3.6/site-packages (from matplotlib) (1.19.5)\n",
      "Requirement already satisfied: pyparsing!=2.0.4,!=2.1.2,!=2.1.6,>=2.0.3 in /usr/local/lib/python3.6/site-packages (from matplotlib) (3.0.9)\n",
      "Collecting pillow>=6.2.0\n",
      "  Downloading Pillow-8.4.0-cp36-cp36m-manylinux_2_17_x86_64.manylinux2014_x86_64.whl (3.1 MB)\n",
      "     |████████████████████████████████| 3.1 MB 46.1 MB/s                                        | 276 kB 46.1 MB/s eta 0:00:01\n",
      "\u001b[?25hRequirement already satisfied: six>=1.5 in /usr/lib/python3.6/site-packages (from python-dateutil>=2.1->matplotlib) (1.11.0)\n",
      "Installing collected packages: pillow, kiwisolver, cycler, matplotlib\n",
      "Successfully installed cycler-0.11.0 kiwisolver-1.3.1 matplotlib-3.3.4 pillow-8.4.0\n"
     ]
    }
   ],
   "source": [
    "!pip install matplotlib"
   ]
  },
  {
   "cell_type": "markdown",
   "metadata": {
    "id": "edMrTIiNCdOx"
   },
   "source": [
    "### Import"
   ]
  },
  {
   "cell_type": "code",
   "execution_count": 1,
   "metadata": {
    "id": "xbx2UfKYCdcP"
   },
   "outputs": [],
   "source": [
    "import matplotlib.pyplot as plt"
   ]
  },
  {
   "cell_type": "markdown",
   "metadata": {
    "id": "WALI8x49GUpe"
   },
   "source": [
    "### [1] Line Plots"
   ]
  },
  {
   "cell_type": "code",
   "execution_count": 4,
   "metadata": {
    "id": "k6dVf2brBHdX"
   },
   "outputs": [
    {
     "data": {
      "image/png": "[encoded data removed]",
      "text/plain": [
       "<Figure size 432x288 with 1 Axes>"
      ]
     },
     "metadata": {
      "needs_background": "light"
     },
     "output_type": "display_data"
    }
   ],
   "source": [
    "x = np.linspace(0,10)\n",
    "plt.plot(x)\n",
    "plt.show()"
   ]
  },
  {
   "cell_type": "code",
   "execution_count": 5,
   "metadata": {
    "id": "YPqysZYJAs2C"
   },
   "outputs": [
    {
     "data": {
      "image/png": "[encoded data removed]",
      "text/plain": [
       "<Figure size 432x288 with 1 Axes>"
      ]
     },
     "metadata": {
      "needs_background": "light"
     },
     "output_type": "display_data"
    }
   ],
   "source": [
    "x = np.linspace(0,10)\n",
    "y = np.exp(x)\n",
    "plt.plot(x,y)\n",
    "plt.show()"
   ]
  },
  {
   "cell_type": "code",
   "execution_count": 6,
   "metadata": {
    "id": "08RTGn_xE3MP"
   },
   "outputs": [
    {
     "data": {
      "image/png": "[encoded data removed]",
      "text/plain": [
       "<Figure size 432x288 with 1 Axes>"
      ]
     },
     "metadata": {
      "needs_background": "light"
     },
     "output_type": "display_data"
    }
   ],
   "source": [
    "x  = [1, 2, 3, 4, 5, 6, 7, 8, 9]\n",
    "y1 = [1, 3, 5, 3, 1, 3, 5, 3, 1]\n",
    "y2 = [2, 4, 6, 4, 2, 4, 6, 4, 2]\n",
    "plt.plot(x, y1, label=\"line L\")\n",
    "plt.plot(x, y2, label=\"line H\")\n",
    "plt.plot()\n",
    "\n",
    "plt.xlabel(\"x axis\")\n",
    "plt.ylabel(\"y axis\")\n",
    "plt.title(\"Line Graph Example\")\n",
    "plt.legend()\n",
    "plt.show()"
   ]
  },
  {
   "cell_type": "markdown",
   "metadata": {
    "id": "sIZLTZ0pdo0Z"
   },
   "source": [
    "### [2] Bar Plots"
   ]
  },
  {
   "cell_type": "code",
   "execution_count": 7,
   "metadata": {
    "id": "bZv4MenQpYOF"
   },
   "outputs": [
    {
     "data": {
      "image/png": "[encoded data removed]",
      "text/plain": [
       "<Figure size 432x288 with 1 Axes>"
      ]
     },
     "metadata": {
      "needs_background": "light"
     },
     "output_type": "display_data"
    }
   ],
   "source": [
    "# Look at index 4 and 6, which demonstrate overlapping cases.\n",
    "x1 = [1, 3, 4, 5, 6, 7, 9]\n",
    "y1 = [4, 7, 2, 4, 7, 8, 3]\n",
    "\n",
    "x2 = [2, 4, 6, 8, 10]\n",
    "y2 = [5, 6, 2, 6, 2]\n",
    "\n",
    "# Colors: https://matplotlib.org/api/colors_api.html\n",
    "\n",
    "plt.bar(x1, y1, label=\"Blue Bar\", color='b')\n",
    "plt.bar(x2, y2, label=\"Green Bar\", color='g')\n",
    "plt.plot()\n",
    "\n",
    "plt.xlabel(\"bar number\")\n",
    "plt.ylabel(\"bar height\")\n",
    "plt.title(\"Bar Chart Example\")\n",
    "plt.legend()\n",
    "plt.show()"
   ]
  },
  {
   "cell_type": "markdown",
   "metadata": {
    "id": "YQO2Lw8Xdu7x"
   },
   "source": [
    "### [3] Histograms"
   ]
  },
  {
   "cell_type": "code",
   "execution_count": 8,
   "metadata": {
    "cellView": "both",
    "id": "SZ-DMbnPMbMY"
   },
   "outputs": [
    {
     "data": {
      "image/png": "[encoded data removed]",
      "text/plain": [
       "<Figure size 432x288 with 1 Axes>"
      ]
     },
     "metadata": {
      "needs_background": "light"
     },
     "output_type": "display_data"
    },
    {
     "data": {
      "image/png": "[encoded data removed]",
      "text/plain": [
       "<Figure size 432x288 with 1 Axes>"
      ]
     },
     "metadata": {
      "needs_background": "light"
     },
     "output_type": "display_data"
    },
    {
     "data": {
      "image/png": "[encoded data removed]",
      "text/plain": [
       "<Figure size 432x288 with 1 Axes>"
      ]
     },
     "metadata": {
      "needs_background": "light"
     },
     "output_type": "display_data"
    }
   ],
   "source": [
    "# Use numpy to generate a bunch of random data in a bell curve around 5.\n",
    "n = 5 + np.random.randn(1000)\n",
    "\n",
    "m = [m for m in range(len(n))]\n",
    "plt.bar(m, n)\n",
    "plt.title(\"Raw Data\")\n",
    "plt.show()\n",
    "\n",
    "plt.hist(n, bins=20)\n",
    "plt.title(\"Histogram\")\n",
    "plt.show()\n",
    "\n",
    "plt.hist(n, cumulative=True, bins=20)\n",
    "plt.title(\"Cumulative Histogram\")\n",
    "plt.show()"
   ]
  },
  {
   "cell_type": "markdown",
   "metadata": {
    "id": "9-CelVUmdz8r"
   },
   "source": [
    "### [4] Scatter Plots"
   ]
  },
  {
   "cell_type": "code",
   "execution_count": 9,
   "metadata": {
    "id": "79C7jc9mv-Ji"
   },
   "outputs": [
    {
     "data": {
      "image/png": "[encoded data removed]",
      "text/plain": [
       "<Figure size 432x288 with 1 Axes>"
      ]
     },
     "metadata": {
      "needs_background": "light"
     },
     "output_type": "display_data"
    }
   ],
   "source": [
    "x1 = [2, 3, 4]\n",
    "y1 = [5, 5, 5]\n",
    "\n",
    "x2 = [1, 2, 3, 4, 5]\n",
    "y2 = [2, 3, 2, 3, 4]\n",
    "y3 = [6, 8, 7, 8, 7]\n",
    "\n",
    "# Markers: https://matplotlib.org/api/markers_api.html\n",
    "\n",
    "plt.scatter(x1, y1)\n",
    "plt.scatter(x2, y2, marker='v', color='r')\n",
    "plt.scatter(x2, y3, marker='^', color='m')\n",
    "plt.title('Scatter Plot Example')\n",
    "plt.show()"
   ]
  },
  {
   "cell_type": "markdown",
   "metadata": {
    "id": "nlk-Sk0Nd82p"
   },
   "source": [
    "### [5] Stack Plots"
   ]
  },
  {
   "cell_type": "code",
   "execution_count": 10,
   "metadata": {
    "id": "5sxEM0pJzpgr"
   },
   "outputs": [
    {
     "data": {
      "image/png": "[encoded data removed]",
      "text/plain": [
       "<Figure size 432x288 with 1 Axes>"
      ]
     },
     "metadata": {
      "needs_background": "light"
     },
     "output_type": "display_data"
    }
   ],
   "source": [
    "idxes = [ 1,  2,  3,  4,  5,  6,  7,  8,  9]\n",
    "arr1  = [23, 40, 28, 43,  8, 44, 43, 18, 17]\n",
    "arr2  = [17, 30, 22, 14, 17, 17, 29, 22, 30]\n",
    "arr3  = [15, 31, 18, 22, 18, 19, 13, 32, 39]\n",
    "\n",
    "# Adding legend for stack plots is tricky.\n",
    "plt.plot([], [], color='r', label = 'D 1')\n",
    "plt.plot([], [], color='g', label = 'D 2')\n",
    "plt.plot([], [], color='b', label = 'D 3')\n",
    "\n",
    "plt.stackplot(idxes, arr1, arr2, arr3, colors= ['r', 'g', 'b'])\n",
    "plt.title('Stack Plot Example')\n",
    "plt.legend()\n",
    "plt.show()"
   ]
  },
  {
   "cell_type": "markdown",
   "metadata": {
    "id": "C0LOohpqeCjx"
   },
   "source": [
    "### [6] Pie Chart aka Pita bar"
   ]
  },
  {
   "cell_type": "code",
   "execution_count": 11,
   "metadata": {
    "id": "ZdEG-d4g4U6v"
   },
   "outputs": [
    {
     "data": {
      "image/png": "[encoded data removed]",
      "text/plain": [
       "<Figure size 432x288 with 1 Axes>"
      ]
     },
     "metadata": {},
     "output_type": "display_data"
    }
   ],
   "source": [
    "import matplotlib.pyplot as plt\n",
    "\n",
    "labels = 'Ne', 'Ne - samo u žutoj boji'\n",
    "sections = [80, 20]\n",
    "colors = ['c', 'y']\n",
    "\n",
    "plt.pie(sections, labels=labels, colors=colors,\n",
    "        startangle=90,\n",
    "        explode = (0, 0.1),\n",
    "        autopct = '%1.2f%%')\n",
    "\n",
    "plt.axis('equal') # Try commenting this out.\n",
    "plt.title('Je li se ovo predavanje zaista dogodilo?')\n",
    "plt.show()"
   ]
  },
  {
   "cell_type": "markdown",
   "metadata": {
    "id": "sX97x87MTyIf"
   },
   "source": [
    "### [7] Fill i alpha"
   ]
  },
  {
   "cell_type": "code",
   "execution_count": 12,
   "metadata": {
    "id": "BCUl8mTMT4sN"
   },
   "outputs": [
    {
     "data": {
      "image/png": "[encoded data removed]",
      "text/plain": [
       "<Figure size 432x288 with 1 Axes>"
      ]
     },
     "metadata": {
      "needs_background": "light"
     },
     "output_type": "display_data"
    }
   ],
   "source": [
    "import matplotlib.pyplot as plt\n",
    "import numpy as np\n",
    "\n",
    "ys = 200 + np.random.randn(100)\n",
    "x = [x for x in range(len(ys))]\n",
    "\n",
    "plt.plot(x, ys, '-')\n",
    "plt.fill_between(x, ys, 195, where=(ys > 195), facecolor='g', alpha=0.6)\n",
    "\n",
    "plt.title(\"Fills and Alpha Example\")\n",
    "plt.show()"
   ]
  },
  {
   "cell_type": "markdown",
   "metadata": {
    "id": "jONspxyzeT4Y"
   },
   "source": [
    "### [8] Subplotting "
   ]
  },
  {
   "cell_type": "markdown",
   "metadata": {
    "id": "ycBkQxArofbA"
   },
   "source": [
    "Using subplots"
   ]
  },
  {
   "cell_type": "code",
   "execution_count": 13,
   "metadata": {
    "id": "y30-vx8roAf4"
   },
   "outputs": [
    {
     "data": {
      "image/png": "[encoded data removed]",
      "text/plain": [
       "<Figure size 432x288 with 4 Axes>"
      ]
     },
     "metadata": {
      "needs_background": "light"
     },
     "output_type": "display_data"
    }
   ],
   "source": [
    "fig, ax = plt.subplots(2, 2)\n",
    "\n",
    "ax[0, 0].plot(np.random.random(10), color = 'r') #row=0, col=0\n",
    "ax[1, 0].plot(np.random.random(10), color = 'b') #row=1, col=0\n",
    "ax[0, 1].plot(np.random.random(10), color = 'g') #row=0, col=1\n",
    "ax[1, 1].plot(np.random.random(10), color = 'k') #row=1, col=1\n",
    "plt.show()"
   ]
  },
  {
   "cell_type": "markdown",
   "metadata": {
    "id": "p1V_slM8ohza"
   },
   "source": [
    "Korištenje figure-a"
   ]
  },
  {
   "cell_type": "code",
   "execution_count": 14,
   "metadata": {
    "id": "dDAxtFqlnL2N"
   },
   "outputs": [
    {
     "data": {
      "image/png": "[encoded data removed]",
      "text/plain": [
       "<Figure size 432x288 with 2 Axes>"
      ]
     },
     "metadata": {
      "needs_background": "light"
     },
     "output_type": "display_data"
    }
   ],
   "source": [
    "fig = plt.figure()\n",
    "ax1 = fig.add_axes([0.1, 0.5, 0.8, 0.4], ylim=(-1.2, 1.2))\n",
    "ax2 = fig.add_axes([0.1, 0.1, 0.8, 0.4], ylim=(-1.2, 1.2))\n",
    "\n",
    "x = np.linspace(0, 10)\n",
    "ax1.plot(np.sin(x))\n",
    "ax2.plot(np.cos(x))\n",
    "\n",
    "plt.show()"
   ]
  },
  {
   "cell_type": "code",
   "execution_count": 15,
   "metadata": {
    "id": "rDWEcisFnMlN"
   },
   "outputs": [
    {
     "data": {
      "image/png": "[encoded data removed]",
      "text/plain": [
       "<Figure size 432x288 with 6 Axes>"
      ]
     },
     "metadata": {
      "needs_background": "light"
     },
     "output_type": "display_data"
    }
   ],
   "source": [
    "fig = plt.figure()\n",
    "#fig.subplots_adjust(hspace=0.4, wspace=0.4)\n",
    "\n",
    "for i in range(1, 7):\n",
    "    plt.subplot(2, 3, i)\n",
    "    plt.text(0.5, 0.5, str((2, 3, i)),fontsize=18, ha='center')"
   ]
  },
  {
   "cell_type": "markdown",
   "metadata": {
    "id": "ejOPyV6pom9s"
   },
   "source": [
    "Korištenje subplot2grid"
   ]
  },
  {
   "cell_type": "code",
   "execution_count": 16,
   "metadata": {
    "id": "JF-dVGj3ExQm"
   },
   "outputs": [
    {
     "data": {
      "image/png": "[encoded data removed]",
      "text/plain": [
       "<Figure size 432x288 with 4 Axes>"
      ]
     },
     "metadata": {
      "needs_background": "light"
     },
     "output_type": "display_data"
    }
   ],
   "source": [
    "import matplotlib.pyplot as plt\n",
    "import numpy as np\n",
    "\n",
    "def random_plots():\n",
    "  xs = []\n",
    "  ys = []\n",
    "  \n",
    "  for i in range(20):\n",
    "    x = i\n",
    "    y = np.random.randint(10)\n",
    "    \n",
    "    xs.append(x)\n",
    "    ys.append(y)\n",
    "  \n",
    "  return xs, ys\n",
    "\n",
    "fig = plt.figure()\n",
    "ax1 = plt.subplot2grid((5, 2), (0, 0), rowspan=1, colspan=2)\n",
    "ax2 = plt.subplot2grid((5, 2), (1, 0), rowspan=3, colspan=2)\n",
    "ax3 = plt.subplot2grid((5, 2), (4, 0), rowspan=1, colspan=1)\n",
    "ax4 = plt.subplot2grid((5, 2), (4, 1), rowspan=1, colspan=1)\n",
    "\n",
    "x, y = random_plots()\n",
    "ax1.plot(x, y)\n",
    "\n",
    "x, y = random_plots()\n",
    "ax2.plot(x, y)\n",
    "\n",
    "x, y = random_plots()\n",
    "ax3.plot(x, y)\n",
    "\n",
    "x, y = random_plots()\n",
    "ax4.plot(x, y)\n",
    "\n",
    "plt.tight_layout()\n",
    "plt.show()"
   ]
  },
  {
   "cell_type": "markdown",
   "metadata": {
    "id": "A_xnqKsS27Kx"
   },
   "source": [
    "## VJEŽBE"
   ]
  },
  {
   "cell_type": "markdown",
   "metadata": {
    "id": "-F1Nna0827rg"
   },
   "source": [
    "#### 1. Generirajte numpy niz koji sadrži 50 prirodnih brojeva. Generirajte drugi niz koji je korijen svakog elementa prvog niza.\n",
    "\n",
    "> #### Ovo bi trebali napraviti na dva načina: <br/>  (i) Korištenjem math.sqrt() funkcije računanjem drugog korijena eksplicitno za svaki element korištenjem for petlje <br/> (ii) Korištenjem numpy ufunc np.sqrt().   \n",
    "\n",
    "#### Koristite python timeit funkciju da biste izračunali i isprintali vrijeme poterbno za izvršavanje (i) i (ii). Primjetite ubrzanje/usporenje u slučaju (ii)."
   ]
  },
  {
   "cell_type": "code",
   "execution_count": 25,
   "metadata": {},
   "outputs": [],
   "source": [
    "from math import sqrt"
   ]
  },
  {
   "cell_type": "code",
   "execution_count": 26,
   "metadata": {},
   "outputs": [],
   "source": [
    "arr = np.random.randint(0, high=10000, size=50)\n"
   ]
  },
  {
   "cell_type": "code",
   "execution_count": 36,
   "metadata": {},
   "outputs": [
    {
     "name": "stdout",
     "output_type": "stream",
     "text": [
      "91.44943958275523\n",
      "95.0420959364849\n",
      "82.09750300709517\n",
      "80.0749648766704\n",
      "72.78736154031138\n",
      "51.30302135352264\n",
      "80.876448982383\n",
      "72.47068372797375\n",
      "97.20082304178294\n",
      "99.23708984044222\n",
      "74.08103670980854\n",
      "59.55669567731239\n",
      "75.39230729988306\n",
      "59.30430001273095\n",
      "93.22553298319082\n",
      "94.47751055145346\n",
      "72.35329985563892\n",
      "76.08547824650904\n",
      "57.9396237474839\n",
      "80.38656604184557\n",
      "49.57822102496216\n",
      "56.50663677834667\n",
      "95.8070978581441\n",
      "65.62011886609167\n",
      "38.07886552931954\n",
      "41.66533331199932\n",
      "85.07055894961546\n",
      "87.94884877018005\n",
      "85.20563361656318\n",
      "60.4648658313239\n",
      "89.09545442950498\n",
      "59.413803110051795\n",
      "44.02272140611028\n",
      "67.1863081289633\n",
      "35.0\n",
      "58.66003750424986\n",
      "99.03534722511958\n",
      "49.82971001320397\n",
      "91.35644476444998\n",
      "25.337718918639855\n",
      "16.703293088490067\n",
      "94.00531899844816\n",
      "92.7523584605804\n",
      "92.70922284217467\n",
      "92.11405973031478\n",
      "81.70067319184096\n",
      "50.86255990411808\n",
      "40.66939881532551\n",
      "41.54515615568198\n",
      "51.894122981316485\n",
      "688 µs ± 0 ns per loop (mean ± std. dev. of 1 run, 1 loop each)\n"
     ]
    }
   ],
   "source": [
    "%%timeit -r 1 -n 1\n",
    "\n",
    "for item in arr:\n",
    "    print(sqrt(item))"
   ]
  },
  {
   "cell_type": "code",
   "execution_count": 37,
   "metadata": {
    "id": "9pJdHTry28XE"
   },
   "outputs": [
    {
     "name": "stdout",
     "output_type": "stream",
     "text": [
      "[91.44943958 95.04209594 82.09750301 80.07496488 72.78736154 51.30302135\n",
      " 80.87644898 72.47068373 97.20082304 99.23708984 74.08103671 59.55669568\n",
      " 75.3923073  59.30430001 93.22553298 94.47751055 72.35329986 76.08547825\n",
      " 57.93962375 80.38656604 49.57822102 56.50663678 95.80709786 65.62011887\n",
      " 38.07886553 41.66533331 85.07055895 87.94884877 85.20563362 60.46486583\n",
      " 89.09545443 59.41380311 44.02272141 67.18630813 35.         58.6600375\n",
      " 99.03534723 49.82971001 91.35644476 25.33771892 16.70329309 94.005319\n",
      " 92.75235846 92.70922284 92.11405973 81.70067319 50.8625599  40.66939882\n",
      " 41.54515616 51.89412298]\n",
      "1.59 ms ± 0 ns per loop (mean ± std. dev. of 1 run, 1 loop each)\n"
     ]
    }
   ],
   "source": [
    "%%timeit -r 1 -n 1\n",
    "\n",
    "arr_sqr = np.sqrt(arr)\n",
    "print(arr_sqr)"
   ]
  },
  {
   "cell_type": "markdown",
   "metadata": {},
   "source": [
    "#### 2. Kreirajte niz veličine 10 x 10 sa svim elementima jednakim 0 kroz liniju koda te zamijenite svaki element na 'granici' niza sa brojem 100"
   ]
  },
  {
   "cell_type": "code",
   "execution_count": 47,
   "metadata": {
    "id": "BseRH1hd28-P"
   },
   "outputs": [
    {
     "data": {
      "text/plain": [
       "array([[100., 100., 100., 100., 100., 100., 100., 100., 100., 100.],\n",
       "       [100.,   0.,   0.,   0.,   0.,   0.,   0.,   0.,   0., 100.],\n",
       "       [100.,   0.,   0.,   0.,   0.,   0.,   0.,   0.,   0., 100.],\n",
       "       [100.,   0.,   0.,   0.,   0.,   0.,   0.,   0.,   0., 100.],\n",
       "       [100.,   0.,   0.,   0.,   0.,   0.,   0.,   0.,   0., 100.],\n",
       "       [100.,   0.,   0.,   0.,   0.,   0.,   0.,   0.,   0., 100.],\n",
       "       [100.,   0.,   0.,   0.,   0.,   0.,   0.,   0.,   0., 100.],\n",
       "       [100.,   0.,   0.,   0.,   0.,   0.,   0.,   0.,   0., 100.],\n",
       "       [100.,   0.,   0.,   0.,   0.,   0.,   0.,   0.,   0., 100.],\n",
       "       [100., 100., 100., 100., 100., 100., 100., 100., 100., 100.]])"
      ]
     },
     "execution_count": 47,
     "metadata": {},
     "output_type": "execute_result"
    }
   ],
   "source": [
    "arr = np.zeros([10,10])\n",
    "arr[:, 0] = 100\n",
    "arr[:, -1] = 100\n",
    "arr[0,:]=100\n",
    "arr[-1,:]=100\n",
    "arr"
   ]
  },
  {
   "cell_type": "markdown",
   "metadata": {},
   "source": [
    "####  3. Kreirajte 1D niz nasumičnih brojeva te kreirajte listu indeksa temeljen na sortiranom nizu"
   ]
  },
  {
   "cell_type": "code",
   "execution_count": 59,
   "metadata": {
    "id": "FCp5Q96I29Uw"
   },
   "outputs": [
    {
     "data": {
      "text/plain": [
       "array([2, 1, 7, 9, 3, 5, 4, 0, 8, 6])"
      ]
     },
     "execution_count": 59,
     "metadata": {},
     "output_type": "execute_result"
    }
   ],
   "source": [
    "arr = np.random.randint(1,100,size=10)\n",
    "a = np.argsort(arr)\n",
    "a"
   ]
  },
  {
   "cell_type": "markdown",
   "metadata": {},
   "source": [
    "#### 4. Kreirajte numpy niz veličine 5 X 10 X 20 koji se sastoji od random int brojeva. Izračunajte srednju vrijednost niza preko različith osi. Nakon toga napravite sumu izračunatih srednjih vrijednosti. Kreirajte plot za svaki od tri rezultata te ih iscrtajte u obliku sublotova koji se nalaze u horizontalnom nizu. \n"
   ]
  },
  {
   "cell_type": "code",
   "execution_count": 74,
   "metadata": {
    "id": "lgRf4sIj2_Ze"
   },
   "outputs": [
    {
     "data": {
      "image/png": "[encoded data removed]",
      "text/plain": [
       "<Figure size 432x288 with 3 Axes>"
      ]
     },
     "metadata": {
      "needs_background": "light"
     },
     "output_type": "display_data"
    }
   ],
   "source": [
    "import matplotlib.pyplot as plt\n",
    "arr = np.random.randint(0, 10, (5,10,20))\n",
    "x_mean = np.mean(arr, axis=0)\n",
    "y_mean = np.mean(arr, axis=1)\n",
    "z_mean = np.mean(arr, axis=2)\n",
    "\n",
    "x_sum = x_mean.sum()\n",
    "y_sum = y_mean.sum()\n",
    "z_sum = z_mean.sum()\n",
    "\n",
    "\n",
    "fig, ax = plt.subplots(1,3)\n",
    "ax[0].plot(x_mean, color = 'r') \n",
    "ax[1].plot(y_mean, color = 'b') \n",
    "ax[2].plot(z_mean, color = 'g') \n",
    "plt.show()"
   ]
  },
  {
   "cell_type": "markdown",
   "metadata": {
    "id": "FOwf22Gfy2U8"
   },
   "source": [
    "### LITERATURA\n",
    "\n",
    "1.   Datacamp NumPy [cheatsheet](https://s3.amazonaws.com/assets.datacamp.com/blog_assets/Numpy_Python_Cheat_Sheet.pdf)\n",
    "2.   [numpy for MATLAB users](https://docs.scipy.org/doc/numpy/user/numpy-for-matlab-users.html)\n",
    "3.  Numpy [reference](https://docs.scipy.org/doc/numpy/reference/)\n",
    "4. Matplotlib [docs](https://matplotlib.org/3.1.1/api/index.html)\n",
    "5. Matplotlib [tutorial](https://matplotlib.org/tutorials/index.html)\n",
    "\n",
    "\n"
   ]
  }
 ],
 "metadata": {
  "colab": {
   "collapsed_sections": [],
   "provenance": []
  },
  "kernelspec": {
   "display_name": "Python 3",
   "language": "python",
   "name": "python3"
  },
  "language_info": {
   "codemirror_mode": {
    "name": "ipython",
    "version": 3
   },
   "file_extension": ".py",
   "mimetype": "text/x-python",
   "name": "python",
   "nbconvert_exporter": "python",
   "pygments_lexer": "ipython3",
   "version": "3.6.8"
  },
  "vscode": {
   "interpreter": {
    "hash": "b0fa6594d8f4cbf19f97940f81e996739fb7646882a419484c72d19e05852a7e"
   }
  }
 },
 "nbformat": 4,
 "nbformat_minor": 4
}
